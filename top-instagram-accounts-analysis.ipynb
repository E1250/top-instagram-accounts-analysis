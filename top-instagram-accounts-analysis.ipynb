{
 "cells": [
  {
   "cell_type": "code",
   "execution_count": 1,
   "id": "dd9a1d07",
   "metadata": {
    "_cell_guid": "b1076dfc-b9ad-4769-8c92-a6c4dae69d19",
    "_uuid": "8f2839f25d086af736a60e9eeb907d3b93b6e0e5",
    "execution": {
     "iopub.execute_input": "2023-02-26T08:48:43.225364Z",
     "iopub.status.busy": "2023-02-26T08:48:43.224802Z",
     "iopub.status.idle": "2023-02-26T08:48:43.240294Z",
     "shell.execute_reply": "2023-02-26T08:48:43.238414Z"
    },
    "papermill": {
     "duration": 0.023973,
     "end_time": "2023-02-26T08:48:43.243281",
     "exception": false,
     "start_time": "2023-02-26T08:48:43.219308",
     "status": "completed"
    },
    "tags": []
   },
   "outputs": [
    {
     "name": "stdout",
     "output_type": "stream",
     "text": [
      "/kaggle/input/top-200-most-followed-instagram-accounts-2023/data.csv\n"
     ]
    }
   ],
   "source": [
    "# This Python 3 environment comes with many helpful analytics libraries installed\n",
    "# It is defined by the kaggle/python Docker image: https://github.com/kaggle/docker-python\n",
    "# For example, here's several helpful packages to load\n",
    "\n",
    "import numpy as np # linear algebra\n",
    "import pandas as pd # data processing, CSV file I/O (e.g. pd.read_csv)\n",
    "\n",
    "# Input data files are available in the read-only \"../input/\" directory\n",
    "# For example, running this (by clicking run or pressing Shift+Enter) will list all files under the input directory\n",
    "\n",
    "import os\n",
    "for dirname, _, filenames in os.walk('/kaggle/input'):\n",
    "    for filename in filenames:\n",
    "        print(os.path.join(dirname, filename))\n",
    "\n",
    "# You can write up to 20GB to the current directory (/kaggle/working/) that gets preserved as output when you create a version using \"Save & Run All\" \n",
    "# You can also write temporary files to /kaggle/temp/, but they won't be saved outside of the current session"
   ]
  },
  {
   "cell_type": "markdown",
   "id": "9b55bd93",
   "metadata": {
    "papermill": {
     "duration": 0.002427,
     "end_time": "2023-02-26T08:48:43.248796",
     "exception": false,
     "start_time": "2023-02-26T08:48:43.246369",
     "status": "completed"
    },
    "tags": []
   },
   "source": [
    "## Top Instagram Accounts Data\n",
    "\n",
    "### Questios we need to answer\n",
    "* is eng rate sepends on the category\n",
    "* is gender influence the eng in the same category\n",
    "* most loved category\n",
    "* what is category of top 10 channels in eng rate\n",
    "* find the relation between number of post and eng rate (does is matter!?)\n",
    "* if i posted more , will i get more eng"
   ]
  },
  {
   "cell_type": "markdown",
   "id": "1fe34b68",
   "metadata": {
    "papermill": {
     "duration": 0.002164,
     "end_time": "2023-02-26T08:48:43.253397",
     "exception": false,
     "start_time": "2023-02-26T08:48:43.251233",
     "status": "completed"
    },
    "tags": []
   },
   "source": [
    "## Importing Needed Libraries and Exploring Data"
   ]
  },
  {
   "cell_type": "code",
   "execution_count": 2,
   "id": "1c4e866a",
   "metadata": {
    "execution": {
     "iopub.execute_input": "2023-02-26T08:48:43.264967Z",
     "iopub.status.busy": "2023-02-26T08:48:43.263894Z",
     "iopub.status.idle": "2023-02-26T08:48:44.226094Z",
     "shell.execute_reply": "2023-02-26T08:48:44.225089Z"
    },
    "papermill": {
     "duration": 0.972419,
     "end_time": "2023-02-26T08:48:44.228515",
     "exception": false,
     "start_time": "2023-02-26T08:48:43.256096",
     "status": "completed"
    },
    "tags": []
   },
   "outputs": [],
   "source": [
    "import numpy as np\n",
    "import pandas as pd\n",
    "import matplotlib.pyplot as plt\n",
    "import seaborn as sns\n",
    "\n",
    "%matplotlib inline\n",
    "sns.set()"
   ]
  },
  {
   "cell_type": "code",
   "execution_count": 3,
   "id": "12c57010",
   "metadata": {
    "execution": {
     "iopub.execute_input": "2023-02-26T08:48:44.236390Z",
     "iopub.status.busy": "2023-02-26T08:48:44.235502Z",
     "iopub.status.idle": "2023-02-26T08:48:44.275955Z",
     "shell.execute_reply": "2023-02-26T08:48:44.274829Z"
    },
    "papermill": {
     "duration": 0.046513,
     "end_time": "2023-02-26T08:48:44.277941",
     "exception": false,
     "start_time": "2023-02-26T08:48:44.231428",
     "status": "completed"
    },
    "tags": []
   },
   "outputs": [
    {
     "data": {
      "text/html": [
       "<div>\n",
       "<style scoped>\n",
       "    .dataframe tbody tr th:only-of-type {\n",
       "        vertical-align: middle;\n",
       "    }\n",
       "\n",
       "    .dataframe tbody tr th {\n",
       "        vertical-align: top;\n",
       "    }\n",
       "\n",
       "    .dataframe thead th {\n",
       "        text-align: right;\n",
       "    }\n",
       "</style>\n",
       "<table border=\"1\" class=\"dataframe\">\n",
       "  <thead>\n",
       "    <tr style=\"text-align: right;\">\n",
       "      <th></th>\n",
       "      <th>rank</th>\n",
       "      <th>name</th>\n",
       "      <th>channel_Info</th>\n",
       "      <th>Category</th>\n",
       "      <th>Posts</th>\n",
       "      <th>Followers</th>\n",
       "      <th>Avg. Likes</th>\n",
       "      <th>Eng Rate</th>\n",
       "    </tr>\n",
       "  </thead>\n",
       "  <tbody>\n",
       "    <tr>\n",
       "      <th>101</th>\n",
       "      <td>102</td>\n",
       "      <td>chanelofficial</td>\n",
       "      <td>brand</td>\n",
       "      <td>Beauty &amp; Makeup</td>\n",
       "      <td>5.1K</td>\n",
       "      <td>53.5M</td>\n",
       "      <td>5.11K</td>\n",
       "      <td>0.1%</td>\n",
       "    </tr>\n",
       "    <tr>\n",
       "      <th>16</th>\n",
       "      <td>17</td>\n",
       "      <td>natgeo</td>\n",
       "      <td>brand</td>\n",
       "      <td>entertainment</td>\n",
       "      <td>26.7K</td>\n",
       "      <td>220.6M</td>\n",
       "      <td>26.71K</td>\n",
       "      <td>0.1%</td>\n",
       "    </tr>\n",
       "    <tr>\n",
       "      <th>107</th>\n",
       "      <td>108</td>\n",
       "      <td>adele</td>\n",
       "      <td>female</td>\n",
       "      <td>entertainment</td>\n",
       "      <td>430</td>\n",
       "      <td>51M</td>\n",
       "      <td>430</td>\n",
       "      <td>6.8%</td>\n",
       "    </tr>\n",
       "    <tr>\n",
       "      <th>64</th>\n",
       "      <td>65</td>\n",
       "      <td>sooyaaa__</td>\n",
       "      <td>female</td>\n",
       "      <td>entertainment</td>\n",
       "      <td>0.9K</td>\n",
       "      <td>66.6M</td>\n",
       "      <td>0.92K</td>\n",
       "      <td>8%</td>\n",
       "    </tr>\n",
       "    <tr>\n",
       "      <th>43</th>\n",
       "      <td>44</td>\n",
       "      <td>priyankachopra</td>\n",
       "      <td>female</td>\n",
       "      <td>entertainment</td>\n",
       "      <td>3.6K</td>\n",
       "      <td>83.9M</td>\n",
       "      <td>3.61K</td>\n",
       "      <td>1.2%</td>\n",
       "    </tr>\n",
       "    <tr>\n",
       "      <th>20</th>\n",
       "      <td>21</td>\n",
       "      <td>neymarjr</td>\n",
       "      <td>male</td>\n",
       "      <td>Health, Sports &amp; Fitness</td>\n",
       "      <td>5.4K</td>\n",
       "      <td>196.2M</td>\n",
       "      <td>5.39K</td>\n",
       "      <td>1.5%</td>\n",
       "    </tr>\n",
       "    <tr>\n",
       "      <th>81</th>\n",
       "      <td>82</td>\n",
       "      <td>whinderssonnunes</td>\n",
       "      <td>male</td>\n",
       "      <td>entertainment</td>\n",
       "      <td>2.8K</td>\n",
       "      <td>58.6M</td>\n",
       "      <td>2.81K</td>\n",
       "      <td>1.9%</td>\n",
       "    </tr>\n",
       "    <tr>\n",
       "      <th>169</th>\n",
       "      <td>170</td>\n",
       "      <td>wizkhalifa</td>\n",
       "      <td>male</td>\n",
       "      <td>entertainment</td>\n",
       "      <td>37</td>\n",
       "      <td>39.4M</td>\n",
       "      <td>37</td>\n",
       "      <td>0.8%</td>\n",
       "    </tr>\n",
       "    <tr>\n",
       "      <th>121</th>\n",
       "      <td>122</td>\n",
       "      <td>harrystyles</td>\n",
       "      <td>male</td>\n",
       "      <td>entertainment</td>\n",
       "      <td>659</td>\n",
       "      <td>47.9M</td>\n",
       "      <td>659</td>\n",
       "      <td>8.5%</td>\n",
       "    </tr>\n",
       "    <tr>\n",
       "      <th>199</th>\n",
       "      <td>200</td>\n",
       "      <td>paollaoliveirareal</td>\n",
       "      <td>female</td>\n",
       "      <td>entertainment</td>\n",
       "      <td>4.8K</td>\n",
       "      <td>34.9M</td>\n",
       "      <td>4.78K</td>\n",
       "      <td>0.7%</td>\n",
       "    </tr>\n",
       "  </tbody>\n",
       "</table>\n",
       "</div>"
      ],
      "text/plain": [
       "     rank                name channel_Info                  Category  Posts  \\\n",
       "101   102      chanelofficial        brand           Beauty & Makeup   5.1K   \n",
       "16     17              natgeo        brand             entertainment  26.7K   \n",
       "107   108               adele       female             entertainment    430   \n",
       "64     65           sooyaaa__       female             entertainment   0.9K   \n",
       "43     44      priyankachopra       female             entertainment   3.6K   \n",
       "20     21            neymarjr         male  Health, Sports & Fitness   5.4K   \n",
       "81     82    whinderssonnunes         male             entertainment   2.8K   \n",
       "169   170          wizkhalifa         male             entertainment     37   \n",
       "121   122         harrystyles         male             entertainment    659   \n",
       "199   200  paollaoliveirareal       female             entertainment   4.8K   \n",
       "\n",
       "    Followers Avg. Likes Eng Rate  \n",
       "101     53.5M      5.11K     0.1%  \n",
       "16     220.6M     26.71K     0.1%  \n",
       "107       51M        430     6.8%  \n",
       "64      66.6M      0.92K       8%  \n",
       "43      83.9M      3.61K     1.2%  \n",
       "20     196.2M      5.39K     1.5%  \n",
       "81      58.6M      2.81K     1.9%  \n",
       "169     39.4M         37     0.8%  \n",
       "121     47.9M        659     8.5%  \n",
       "199     34.9M      4.78K     0.7%  "
      ]
     },
     "execution_count": 3,
     "metadata": {},
     "output_type": "execute_result"
    }
   ],
   "source": [
    "df = pd.read_csv('/kaggle/input/top-200-most-followed-instagram-accounts-2023/data.csv')\n",
    "df.sample(10)"
   ]
  },
  {
   "cell_type": "code",
   "execution_count": 4,
   "id": "3a0ec959",
   "metadata": {
    "execution": {
     "iopub.execute_input": "2023-02-26T08:48:44.285173Z",
     "iopub.status.busy": "2023-02-26T08:48:44.284854Z",
     "iopub.status.idle": "2023-02-26T08:48:44.303501Z",
     "shell.execute_reply": "2023-02-26T08:48:44.302498Z"
    },
    "papermill": {
     "duration": 0.025421,
     "end_time": "2023-02-26T08:48:44.306349",
     "exception": false,
     "start_time": "2023-02-26T08:48:44.280928",
     "status": "completed"
    },
    "tags": []
   },
   "outputs": [
    {
     "name": "stdout",
     "output_type": "stream",
     "text": [
      "<class 'pandas.core.frame.DataFrame'>\n",
      "RangeIndex: 200 entries, 0 to 199\n",
      "Data columns (total 8 columns):\n",
      " #   Column        Non-Null Count  Dtype \n",
      "---  ------        --------------  ----- \n",
      " 0   rank          200 non-null    int64 \n",
      " 1   name          200 non-null    object\n",
      " 2   channel_Info  195 non-null    object\n",
      " 3   Category      193 non-null    object\n",
      " 4   Posts         200 non-null    object\n",
      " 5   Followers     200 non-null    object\n",
      " 6   Avg. Likes    200 non-null    object\n",
      " 7   Eng Rate      200 non-null    object\n",
      "dtypes: int64(1), object(7)\n",
      "memory usage: 12.6+ KB\n"
     ]
    }
   ],
   "source": [
    "df.info()"
   ]
  },
  {
   "cell_type": "code",
   "execution_count": 5,
   "id": "ee0e769c",
   "metadata": {
    "execution": {
     "iopub.execute_input": "2023-02-26T08:48:44.313389Z",
     "iopub.status.busy": "2023-02-26T08:48:44.313072Z",
     "iopub.status.idle": "2023-02-26T08:48:44.320274Z",
     "shell.execute_reply": "2023-02-26T08:48:44.319129Z"
    },
    "papermill": {
     "duration": 0.013451,
     "end_time": "2023-02-26T08:48:44.322704",
     "exception": false,
     "start_time": "2023-02-26T08:48:44.309253",
     "status": "completed"
    },
    "tags": []
   },
   "outputs": [
    {
     "name": "stdout",
     "output_type": "stream",
     "text": [
      "Channel info : \n",
      "male         93\n",
      "female       74\n",
      "brand        15\n",
      "community    13\n",
      "Name: channel_Info, dtype: int64 \n",
      "\n",
      "Categories : \n",
      " entertainment               129\n",
      "Health, Sports & Fitness     39\n",
      "fashion                      10\n",
      "News & Politics               3\n",
      "Beauty & Makeup               3\n",
      "photography                   2\n",
      "technology                    2\n",
      "food                          2\n",
      "Lifestyle                     1\n",
      "Finance                       1\n",
      "Craft/DIY                     1\n",
      "Name: Category, dtype: int64\n"
     ]
    }
   ],
   "source": [
    "print(f\"Channel info : \\n{df['channel_Info'].value_counts()} \\n\"),\n",
    "print(f\"Categories : \\n {df['Category'].value_counts()}\")"
   ]
  },
  {
   "cell_type": "markdown",
   "id": "02ec3efd",
   "metadata": {
    "papermill": {
     "duration": 0.002844,
     "end_time": "2023-02-26T08:48:44.328765",
     "exception": false,
     "start_time": "2023-02-26T08:48:44.325921",
     "status": "completed"
    },
    "tags": []
   },
   "source": [
    "# Will answer the question later"
   ]
  },
  {
   "cell_type": "code",
   "execution_count": null,
   "id": "442014fc",
   "metadata": {
    "papermill": {
     "duration": 0.002539,
     "end_time": "2023-02-26T08:48:44.334491",
     "exception": false,
     "start_time": "2023-02-26T08:48:44.331952",
     "status": "completed"
    },
    "tags": []
   },
   "outputs": [],
   "source": []
  }
 ],
 "metadata": {
  "kernelspec": {
   "display_name": "Python 3",
   "language": "python",
   "name": "python3"
  },
  "language_info": {
   "codemirror_mode": {
    "name": "ipython",
    "version": 3
   },
   "file_extension": ".py",
   "mimetype": "text/x-python",
   "name": "python",
   "nbconvert_exporter": "python",
   "pygments_lexer": "ipython3",
   "version": "3.7.12"
  },
  "papermill": {
   "default_parameters": {},
   "duration": 9.828172,
   "end_time": "2023-02-26T08:48:44.956805",
   "environment_variables": {},
   "exception": null,
   "input_path": "__notebook__.ipynb",
   "output_path": "__notebook__.ipynb",
   "parameters": {},
   "start_time": "2023-02-26T08:48:35.128633",
   "version": "2.4.0"
  }
 },
 "nbformat": 4,
 "nbformat_minor": 5
}
